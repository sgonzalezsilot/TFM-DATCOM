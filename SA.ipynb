{
 "cells": [
  {
   "cell_type": "markdown",
   "id": "18d97e4e-d997-47de-9ef0-b48c2e0b8e73",
   "metadata": {},
   "source": [
    "# Sentiment Analysis de las palabras más relevantes obtenidas con SHAP"
   ]
  },
  {
   "cell_type": "code",
   "execution_count": 2,
   "id": "222d06a0-dfd8-4781-9e10-297db38ce2f4",
   "metadata": {},
   "outputs": [
    {
     "name": "stdout",
     "output_type": "stream",
     "text": [
      "Collecting nltk\n",
      "  Using cached nltk-3.8.1-py3-none-any.whl (1.5 MB)\n",
      "Requirement already satisfied: click in /opt/conda/lib/python3.7/site-packages (from nltk) (8.1.3)\n",
      "Requirement already satisfied: regex>=2021.8.3 in ./.local/lib/python3.7/site-packages (from nltk) (2023.6.3)\n",
      "Requirement already satisfied: tqdm in /opt/conda/lib/python3.7/site-packages (from nltk) (4.64.1)\n",
      "Requirement already satisfied: joblib in /opt/conda/lib/python3.7/site-packages (from nltk) (1.2.0)\n",
      "Requirement already satisfied: importlib-metadata in /opt/conda/lib/python3.7/site-packages (from click->nltk) (4.11.4)\n",
      "Requirement already satisfied: zipp>=0.5 in /opt/conda/lib/python3.7/site-packages (from importlib-metadata->click->nltk) (3.10.0)\n",
      "Requirement already satisfied: typing-extensions>=3.6.4 in /opt/conda/lib/python3.7/site-packages (from importlib-metadata->click->nltk) (4.4.0)\n",
      "Installing collected packages: nltk\n",
      "Successfully installed nltk-3.8.1\n"
     ]
    }
   ],
   "source": [
    "!pip install nltk"
   ]
  },
  {
   "cell_type": "code",
   "execution_count": 6,
   "id": "67c7da4c-9001-406d-bfdc-5cce5602ecc7",
   "metadata": {},
   "outputs": [
    {
     "name": "stderr",
     "output_type": "stream",
     "text": [
      "[nltk_data] Downloading package sentiwordnet to\n",
      "[nltk_data]     /home/jupyter/nltk_data...\n",
      "[nltk_data]   Package sentiwordnet is already up-to-date!\n",
      "[nltk_data] Downloading package vader_lexicon to\n",
      "[nltk_data]     /home/jupyter/nltk_data...\n",
      "[nltk_data]   Package vader_lexicon is already up-to-date!\n"
     ]
    },
    {
     "data": {
      "text/plain": [
       "True"
      ]
     },
     "execution_count": 6,
     "metadata": {},
     "output_type": "execute_result"
    }
   ],
   "source": [
    "from nltk.corpus import sentiwordnet as swn\n",
    "import nltk\n",
    "nltk.download('sentiwordnet')\n",
    "nltk.download('vader_lexicon')"
   ]
  },
  {
   "cell_type": "code",
   "execution_count": 39,
   "id": "3861873c-1534-4772-a0e8-900bbf970b52",
   "metadata": {},
   "outputs": [
    {
     "data": {
      "text/plain": [
       "<filter at 0x7f32e982f390>"
      ]
     },
     "execution_count": 39,
     "metadata": {},
     "output_type": "execute_result"
    }
   ],
   "source": [
    "happy = swn.senti_synsets('medical')\n",
    "happy"
   ]
  },
  {
   "cell_type": "code",
   "execution_count": 59,
   "id": "c8a13fef-00c5-40ac-9d5a-20f5bafb9b68",
   "metadata": {},
   "outputs": [
    {
     "name": "stdout",
     "output_type": "stream",
     "text": [
      "Word: threshold\n",
      "<threshold.n.01: PosScore=0.0 NegScore=0.0>\n",
      "<threshold.n.02: PosScore=0.125 NegScore=0.0>\n",
      "<doorway.n.01: PosScore=0.0 NegScore=0.0>\n",
      "<doorsill.n.01: PosScore=0.0 NegScore=0.0>\n",
      "<brink.n.01: PosScore=0.0 NegScore=0.0>\n",
      "Positive score: 0.125\n",
      "Negative score: 0.0\n",
      "##########################\n",
      "Word: manifestation\n",
      "<manifestation.n.01: PosScore=0.375 NegScore=0.0>\n",
      "<manifestation.n.02: PosScore=0.0 NegScore=0.0>\n",
      "<materialization.n.02: PosScore=0.125 NegScore=0.0>\n",
      "<expression.n.02: PosScore=0.0 NegScore=0.0>\n",
      "<demonstration.n.03: PosScore=0.0 NegScore=0.0>\n",
      "Positive score: 0.5\n",
      "Negative score: 0.0\n",
      "##########################\n",
      "Word: predictions\n",
      "<prediction.n.01: PosScore=0.0 NegScore=0.0>\n",
      "<prediction.n.02: PosScore=0.0 NegScore=0.0>\n",
      "Positive score: 0.0\n",
      "Negative score: 0.0\n",
      "##########################\n",
      "Word: libraries\n",
      "<library.n.01: PosScore=0.0 NegScore=0.0>\n",
      "<library.n.02: PosScore=0.0 NegScore=0.0>\n",
      "<library.n.03: PosScore=0.0 NegScore=0.0>\n",
      "<library.n.04: PosScore=0.125 NegScore=0.0>\n",
      "<library.n.05: PosScore=0.0 NegScore=0.0>\n",
      "Positive score: 0.125\n",
      "Negative score: 0.0\n",
      "##########################\n",
      "Word: sensitivity\n",
      "<sensitivity.n.01: PosScore=0.0 NegScore=0.0>\n",
      "<sensitivity.n.02: PosScore=0.0 NegScore=0.25>\n",
      "<sensitivity.n.03: PosScore=0.125 NegScore=0.25>\n",
      "<sensitivity.n.04: PosScore=0.125 NegScore=0.0>\n",
      "<sensitivity.n.05: PosScore=0.125 NegScore=0.0>\n",
      "Positive score: 0.375\n",
      "Negative score: 0.5\n",
      "##########################\n",
      "Word: allegheny\n",
      "<allegheny.n.01: PosScore=0.0 NegScore=0.0>\n",
      "Positive score: 0.0\n",
      "Negative score: 0.0\n",
      "##########################\n",
      "Word: averages\n",
      "<average.n.01: PosScore=0.0 NegScore=0.0>\n",
      "<average.n.02: PosScore=0.0 NegScore=0.0>\n",
      "<average.n.03: PosScore=0.0 NegScore=0.0>\n",
      "<average.v.01: PosScore=0.0 NegScore=0.625>\n",
      "<average.v.02: PosScore=0.0 NegScore=0.0>\n",
      "<average.v.03: PosScore=0.0 NegScore=0.375>\n",
      "Positive score: 0.0\n",
      "Negative score: 1.0\n",
      "##########################\n",
      "Word: parameter\n",
      "<parameter.n.01: PosScore=0.0 NegScore=0.0>\n",
      "<parameter.n.02: PosScore=0.0 NegScore=0.0>\n",
      "<argument.n.05: PosScore=0.0 NegScore=0.0>\n",
      "<parameter.n.04: PosScore=0.0 NegScore=0.0>\n",
      "Positive score: 0.0\n",
      "Negative score: 0.0\n",
      "##########################\n",
      "Word: processed\n",
      "<process.v.01: PosScore=0.0 NegScore=0.0>\n",
      "<process.v.02: PosScore=0.0 NegScore=0.0>\n",
      "<process.v.03: PosScore=0.0 NegScore=0.0>\n",
      "<action.v.01: PosScore=0.0 NegScore=0.0>\n",
      "<march.v.01: PosScore=0.0 NegScore=0.0>\n",
      "<work.v.05: PosScore=0.0 NegScore=0.0>\n",
      "<serve.v.11: PosScore=0.0 NegScore=0.0>\n",
      "<processed.s.01: PosScore=0.0 NegScore=0.0>\n",
      "<refined.a.02: PosScore=0.25 NegScore=0.5>\n",
      "<processed.a.03: PosScore=0.0 NegScore=0.0>\n",
      "Positive score: 0.25\n",
      "Negative score: 0.5\n",
      "##########################\n",
      "Word: gatherings\n",
      "<gathering.n.01: PosScore=0.0 NegScore=0.0>\n",
      "<assembly.n.06: PosScore=0.0 NegScore=0.0>\n",
      "<gather.n.02: PosScore=0.0 NegScore=0.0>\n",
      "<gather.n.01: PosScore=0.0 NegScore=0.0>\n",
      "<gather.v.01: PosScore=0.0 NegScore=0.0>\n",
      "<meet.v.07: PosScore=0.0 NegScore=0.0>\n",
      "<accumulate.v.02: PosScore=0.0 NegScore=0.0>\n",
      "<gather.v.04: PosScore=0.0 NegScore=0.0>\n",
      "<gather.v.05: PosScore=0.0 NegScore=0.0>\n",
      "<assemble.v.03: PosScore=0.0 NegScore=0.0>\n",
      "<gather.v.07: PosScore=0.0 NegScore=0.0>\n",
      "<gather.v.08: PosScore=0.0 NegScore=0.0>\n",
      "<gain.v.07: PosScore=0.0 NegScore=0.0>\n",
      "Positive score: 0.0\n",
      "Negative score: 0.0\n",
      "##########################\n"
     ]
    }
   ],
   "source": [
    "\n",
    "list_words = [\"threshold\",\"manifestation\", \"predictions\", \"libraries\", \"sensitivity\", \"allegheny\", \"averages\", \"parameter\", \"processed\", \"gatherings\"]\n",
    "\n",
    "for word in list_words:\n",
    "    print(f\"Word: {word}\")\n",
    "    posscore = 0\n",
    "    negscore = 0\n",
    "    for synst in swn.senti_synsets(f\"{word}\"):\n",
    "        posscore += synst.pos_score()\n",
    "        negscore += synst.neg_score()\n",
    "        # print(synst)\n",
    "\n",
    "    print(f\"Positive score: {posscore}\")\n",
    "    print(f\"Negative score: {negscore}\")\n",
    "    print(\"##########################\")"
   ]
  },
  {
   "cell_type": "code",
   "execution_count": 4,
   "id": "ea733da3-fc95-4c60-9fcc-51cfbb831da4",
   "metadata": {},
   "outputs": [
    {
     "data": {
      "text/plain": [
       "{'neg': 0.0, 'neu': 0.351, 'pos': 0.649, 'compound': 0.5719}"
      ]
     },
     "execution_count": 4,
     "metadata": {},
     "output_type": "execute_result"
    }
   ],
   "source": [
    "from nltk.sentiment import SentimentIntensityAnalyzer\n",
    "sia = SentimentIntensityAnalyzer()\n",
    "sia.polarity_scores(\"this is happy\")"
   ]
  },
  {
   "cell_type": "code",
   "execution_count": 5,
   "id": "73507df1-8c0e-4e57-985a-954516aadcf7",
   "metadata": {},
   "outputs": [
    {
     "name": "stdout",
     "output_type": "stream",
     "text": [
      "{'neg': 0.0, 'neu': 1.0, 'pos': 0.0, 'compound': 0.0}\n",
      "{'neg': 0.0, 'neu': 1.0, 'pos': 0.0, 'compound': 0.0}\n",
      "{'neg': 0.0, 'neu': 0.0, 'pos': 1.0, 'compound': 0.5719}\n"
     ]
    }
   ],
   "source": [
    "for word in [\"this\", \"is\", \"happy\"]:\n",
    "    print(sia.polarity_scores(word))"
   ]
  },
  {
   "cell_type": "code",
   "execution_count": null,
   "id": "a7a6b42d-8d7c-4f4f-8196-9897d618e262",
   "metadata": {},
   "outputs": [],
   "source": [
    "sia.polarity_scores(\"vodka\")"
   ]
  },
  {
   "cell_type": "code",
   "execution_count": 12,
   "id": "dfedffd7-e60c-4dcc-9434-1f786e6da124",
   "metadata": {},
   "outputs": [
    {
     "name": "stdout",
     "output_type": "stream",
     "text": [
      "Collecting NRCLex\n",
      "  Using cached NRCLex-4.0-py3-none-any.whl (4.4 kB)\n",
      "  Using cached NRCLex-3.0.0-py3-none-any.whl\n",
      "Collecting textblob\n",
      "  Using cached textblob-0.17.1-py2.py3-none-any.whl (636 kB)\n",
      "Requirement already satisfied: nltk>=3.1 in /opt/conda/lib/python3.7/site-packages (from textblob->NRCLex) (3.8.1)\n",
      "Requirement already satisfied: joblib in /opt/conda/lib/python3.7/site-packages (from nltk>=3.1->textblob->NRCLex) (1.2.0)\n",
      "Requirement already satisfied: tqdm in /opt/conda/lib/python3.7/site-packages (from nltk>=3.1->textblob->NRCLex) (4.64.1)\n",
      "Requirement already satisfied: regex>=2021.8.3 in ./.local/lib/python3.7/site-packages (from nltk>=3.1->textblob->NRCLex) (2023.6.3)\n",
      "Requirement already satisfied: click in /opt/conda/lib/python3.7/site-packages (from nltk>=3.1->textblob->NRCLex) (8.1.3)\n",
      "Requirement already satisfied: importlib-metadata in /opt/conda/lib/python3.7/site-packages (from click->nltk>=3.1->textblob->NRCLex) (4.11.4)\n",
      "Requirement already satisfied: typing-extensions>=3.6.4 in /opt/conda/lib/python3.7/site-packages (from importlib-metadata->click->nltk>=3.1->textblob->NRCLex) (4.4.0)\n",
      "Requirement already satisfied: zipp>=0.5 in /opt/conda/lib/python3.7/site-packages (from importlib-metadata->click->nltk>=3.1->textblob->NRCLex) (3.10.0)\n",
      "Installing collected packages: textblob, NRCLex\n",
      "Successfully installed NRCLex-3.0.0 textblob-0.17.1\n"
     ]
    }
   ],
   "source": [
    "!pip install NRCLex"
   ]
  },
  {
   "cell_type": "code",
   "execution_count": null,
   "id": "270bb210-849a-4735-9c8e-2bdd7effc0be",
   "metadata": {},
   "outputs": [],
   "source": [
    "!python -m textblob.download_corpora"
   ]
  },
  {
   "cell_type": "code",
   "execution_count": 13,
   "id": "0e062bec-371b-457a-bcc4-baa32883dfc0",
   "metadata": {},
   "outputs": [
    {
     "name": "stdout",
     "output_type": "stream",
     "text": [
      "{'fear': 0.0, 'anger': 0.0, 'anticip': 0.0, 'trust': 0.0, 'surprise': 0.0, 'positive': 0.0, 'negative': 0.0, 'sadness': 0.0, 'disgust': 0.0, 'joy': 0.0}\n",
      "{'fear': 0.0, 'anger': 0.0, 'anticip': 0.0, 'trust': 0.0, 'surprise': 0.0, 'positive': 0.0, 'negative': 0.0, 'sadness': 0.0, 'disgust': 0.0, 'joy': 0.0}\n",
      "{'fear': 0.0, 'anger': 0.0, 'anticip': 0.0, 'trust': 0.5, 'surprise': 0.0, 'positive': 0.5, 'negative': 0.0, 'sadness': 0.0, 'disgust': 0.0, 'joy': 0.0}\n",
      "{'fear': 0.0, 'anger': 0.0, 'anticip': 0.0, 'trust': 0.0, 'surprise': 0.0, 'positive': 0.0, 'negative': 0.0, 'sadness': 0.0, 'disgust': 0.0, 'joy': 0.0}\n",
      "{'fear': 0.0, 'anger': 0.0, 'anticip': 0.0, 'trust': 0.0, 'surprise': 0.0, 'positive': 0.0, 'negative': 0.0, 'sadness': 0.0, 'disgust': 0.0, 'joy': 0.0}\n"
     ]
    }
   ],
   "source": [
    "from nrclex import NRCLex\n",
    "\n",
    "\n",
    "text = ['emerging', 'vodka', \"fundamental\", \"heroes\", \"examines\"]\n",
    "\n",
    "for i in range(len(text)):\n",
    "   \n",
    "    # creating objects\n",
    "    emotion = NRCLex(text[i])\n",
    "    print(emotion.affect_frequencies)"
   ]
  }
 ],
 "metadata": {
  "kernelspec": {
   "display_name": "Python (Local)",
   "language": "python",
   "name": "local-base"
  },
  "language_info": {
   "codemirror_mode": {
    "name": "ipython",
    "version": 3
   },
   "file_extension": ".py",
   "mimetype": "text/x-python",
   "name": "python",
   "nbconvert_exporter": "python",
   "pygments_lexer": "ipython3",
   "version": "3.7.12"
  }
 },
 "nbformat": 4,
 "nbformat_minor": 5
}
